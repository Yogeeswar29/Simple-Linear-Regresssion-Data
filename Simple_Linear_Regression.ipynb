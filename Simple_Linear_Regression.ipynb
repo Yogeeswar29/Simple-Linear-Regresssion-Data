{
  "nbformat": 4,
  "nbformat_minor": 0,
  "metadata": {
    "colab": {
      "name": "Simple Linear Regression.ipynb",
      "provenance": [],
      "toc_visible": true,
      "authorship_tag": "ABX9TyNBwlbeXC4uHndnp7HNSLEJ",
      "include_colab_link": true
    },
    "kernelspec": {
      "name": "python3",
      "display_name": "Python 3"
    },
    "language_info": {
      "name": "python"
    }
  },
  "cells": [
    {
      "cell_type": "markdown",
      "metadata": {
        "id": "view-in-github",
        "colab_type": "text"
      },
      "source": [
        "<a href=\"https://colab.research.google.com/github/Yogeeswar29/Simple-Linear-Regresssion-Data/blob/main/Simple_Linear_Regression.ipynb\" target=\"_parent\"><img src=\"https://colab.research.google.com/assets/colab-badge.svg\" alt=\"Open In Colab\"/></a>"
      ]
    },
    {
      "cell_type": "code",
      "execution_count": null,
      "metadata": {
        "id": "ZDeK-PDcHmEu"
      },
      "outputs": [],
      "source": [
        "%load_ext rpy2.ipython"
      ]
    },
    {
      "cell_type": "markdown",
      "source": [
        "\n",
        "Working with Simple Linear Regresssion Data\n"
      ],
      "metadata": {
        "id": "ulnansCIIfDp"
      }
    },
    {
      "cell_type": "code",
      "source": [
        "#Working with Simple Linear Regresssion Data\n",
        "%%R\n",
        "library(readr)\n",
        "library(dplyr)\n",
        "library(tidyr)\n",
        "library(tidyr)\n"
      ],
      "metadata": {
        "colab": {
          "base_uri": "https://localhost:8080/"
        },
        "id": "bFA-uJH-HylM",
        "outputId": "8d6350e7-21b1-48c1-e1f7-10a1f7b7f7a3"
      },
      "execution_count": null,
      "outputs": [
        {
          "output_type": "stream",
          "name": "stderr",
          "text": [
            "R[write to console]: \n",
            "Attaching package: ‘dplyr’\n",
            "\n",
            "\n",
            "R[write to console]: The following objects are masked from ‘package:stats’:\n",
            "\n",
            "    filter, lag\n",
            "\n",
            "\n",
            "R[write to console]: The following objects are masked from ‘package:base’:\n",
            "\n",
            "    intersect, setdiff, setequal, union\n",
            "\n",
            "\n"
          ]
        }
      ]
    },
    {
      "cell_type": "code",
      "source": [
        "%%R\n",
        "Salary=read_csv(\"/content/Salary_Data.csv\")\n",
        "print(Salary)"
      ],
      "metadata": {
        "colab": {
          "base_uri": "https://localhost:8080/"
        },
        "id": "vrxP8xLqIPXj",
        "outputId": "31572675-d7e0-4f35-a659-9cd6c6ee8521"
      },
      "execution_count": null,
      "outputs": [
        {
          "output_type": "stream",
          "name": "stdout",
          "text": [
            "Rows: 30 Columns: 2\n",
            "── Column specification ────────────────────────────────────────────────────────\n",
            "Delimiter: \",\"\n",
            "dbl (2): YearsExperience, Salary\n",
            "\n",
            "ℹ Use `spec()` to retrieve the full column specification for this data.\n",
            "ℹ Specify the column types or set `show_col_types = FALSE` to quiet this message.\n",
            "# A tibble: 30 × 2\n",
            "   YearsExperience Salary\n",
            "             <dbl>  <dbl>\n",
            " 1             1.1  39343\n",
            " 2             1.3  46205\n",
            " 3             1.5  37731\n",
            " 4             2    43525\n",
            " 5             2.2  39891\n",
            " 6             2.9  56642\n",
            " 7             3    60150\n",
            " 8             3.2  54445\n",
            " 9             3.2  64445\n",
            "10             3.7  57189\n",
            "# … with 20 more rows\n"
          ]
        }
      ]
    },
    {
      "cell_type": "code",
      "source": [
        "%%R\n",
        "print(Salary)"
      ],
      "metadata": {
        "colab": {
          "base_uri": "https://localhost:8080/"
        },
        "id": "YEzwSALtJHLa",
        "outputId": "d9e6a219-8c9a-4b62-f772-afa07b8e2477"
      },
      "execution_count": null,
      "outputs": [
        {
          "output_type": "stream",
          "name": "stdout",
          "text": [
            "# A tibble: 30 × 2\n",
            "   YearsExperience Salary\n",
            "             <dbl>  <dbl>\n",
            " 1             1.1  39343\n",
            " 2             1.3  46205\n",
            " 3             1.5  37731\n",
            " 4             2    43525\n",
            " 5             2.2  39891\n",
            " 6             2.9  56642\n",
            " 7             3    60150\n",
            " 8             3.2  54445\n",
            " 9             3.2  64445\n",
            "10             3.7  57189\n",
            "# … with 20 more rows\n"
          ]
        }
      ]
    },
    {
      "cell_type": "code",
      "source": [
        "%%R\n",
        "print(Salary$YearsExperience)\n",
        "print(Salary$Salary)"
      ],
      "metadata": {
        "colab": {
          "base_uri": "https://localhost:8080/"
        },
        "id": "UGnsyaIRJLqa",
        "outputId": "a379135e-4507-4a94-ad8f-eedee98b3b33"
      },
      "execution_count": null,
      "outputs": [
        {
          "output_type": "stream",
          "name": "stdout",
          "text": [
            " [1]  1.1  1.3  1.5  2.0  2.2  2.9  3.0  3.2  3.2  3.7  3.9  4.0  4.0  4.1  4.5\n",
            "[16]  4.9  5.1  5.3  5.9  6.0  6.8  7.1  7.9  8.2  8.7  9.0  9.5  9.6 10.3 10.5\n",
            " [1]  39343  46205  37731  43525  39891  56642  60150  54445  64445  57189\n",
            "[11]  63218  55794  56957  57081  61111  67938  66029  83088  81363  93940\n",
            "[21]  91738  98273 101302 113812 109431 105582 116969 112635 122391 121872\n"
          ]
        }
      ]
    },
    {
      "cell_type": "code",
      "source": [
        "%%R\n",
        "relation<- lm(Salary$Salary~Salary$YearsExperience)\n",
        "print(relation)\n",
        "names(relation)"
      ],
      "metadata": {
        "colab": {
          "base_uri": "https://localhost:8080/"
        },
        "id": "pBREfjQEKtap",
        "outputId": "db78541d-3d2d-43c9-e305-f69d8cc5f449"
      },
      "execution_count": null,
      "outputs": [
        {
          "output_type": "stream",
          "name": "stdout",
          "text": [
            "\n",
            "Call:\n",
            "lm(formula = Salary$Salary ~ Salary$YearsExperience)\n",
            "\n",
            "Coefficients:\n",
            "           (Intercept)  Salary$YearsExperience  \n",
            "                 25792                    9450  \n",
            "\n",
            " [1] \"coefficients\"  \"residuals\"     \"effects\"       \"rank\"         \n",
            " [5] \"fitted.values\" \"assign\"        \"qr\"            \"df.residual\"  \n",
            " [9] \"xlevels\"       \"call\"          \"terms\"         \"model\"        \n"
          ]
        }
      ]
    },
    {
      "cell_type": "code",
      "source": [
        ""
      ],
      "metadata": {
        "id": "MNp_lIr_LYNB"
      },
      "execution_count": null,
      "outputs": []
    },
    {
      "cell_type": "code",
      "source": [
        ""
      ],
      "metadata": {
        "id": "htZsHbYONSSf"
      },
      "execution_count": null,
      "outputs": []
    },
    {
      "cell_type": "code",
      "source": [
        "%%R\n",
        "#str(relation)\n",
        "relation$coefficients"
      ],
      "metadata": {
        "colab": {
          "base_uri": "https://localhost:8080/"
        },
        "id": "MgYKZCsXNicT",
        "outputId": "1ce85312-4ed4-4ec3-c0ca-07bf822eeab7"
      },
      "execution_count": null,
      "outputs": [
        {
          "output_type": "stream",
          "name": "stdout",
          "text": [
            "           (Intercept) Salary$YearsExperience \n",
            "             25792.200               9449.962 \n"
          ]
        }
      ]
    },
    {
      "cell_type": "code",
      "source": [
        "%%R\n",
        "c=relation$coefficients[1]\n",
        "m=relation$coefficients[2]\n",
        "print(c)\n",
        "print(m)"
      ],
      "metadata": {
        "colab": {
          "base_uri": "https://localhost:8080/"
        },
        "id": "3R9W4YdFN08m",
        "outputId": "f6c44834-c3b2-41ac-d21a-dc39ce5ce95b"
      },
      "execution_count": null,
      "outputs": [
        {
          "output_type": "stream",
          "name": "stdout",
          "text": [
            "(Intercept) \n",
            "    25792.2 \n",
            "Salary$YearsExperience \n",
            "              9449.962 \n"
          ]
        }
      ]
    },
    {
      "cell_type": "code",
      "source": [
        "%%R\n",
        "Salary_output=m*7+c\n",
        "print(Salary_output)"
      ],
      "metadata": {
        "colab": {
          "base_uri": "https://localhost:8080/"
        },
        "id": "uKjTqQEXPDom",
        "outputId": "136475f7-4752-47c4-fedf-4652caabfc35"
      },
      "execution_count": null,
      "outputs": [
        {
          "output_type": "stream",
          "name": "stdout",
          "text": [
            "Salary$YearsExperience \n",
            "              91941.94 \n"
          ]
        }
      ]
    },
    {
      "cell_type": "code",
      "source": [
        "%%R\n",
        "y=m*Salary$YearsExperience+c\n",
        "print(y)\n",
        "Salary1<- mutate(Salary,predicted=y)\n",
        "Salary2 <- mutate(Salary1,difference=Salary-predicted)\n",
        "print(Salary2)"
      ],
      "metadata": {
        "colab": {
          "base_uri": "https://localhost:8080/"
        },
        "id": "e3q9evcrPkGF",
        "outputId": "f3d060a4-aa87-4473-d131-6bc8763a5b1e"
      },
      "execution_count": null,
      "outputs": [
        {
          "output_type": "stream",
          "name": "stdout",
          "text": [
            " [1]  36187.16  38077.15  39967.14  44692.12  46582.12  53197.09  54142.09\n",
            " [8]  56032.08  56032.08  60757.06  62647.05  63592.05  63592.05  64537.05\n",
            "[15]  68317.03  72097.02  73987.01  75877.00  81546.98  82491.97  90051.94\n",
            "[22]  92886.93 100446.90 103281.89 108006.87 110841.86 115566.84 116511.84\n",
            "[29] 123126.81 125016.80\n",
            "# A tibble: 30 × 4\n",
            "   YearsExperience Salary predicted difference\n",
            "             <dbl>  <dbl>     <dbl>      <dbl>\n",
            " 1             1.1  39343    36187.      3156.\n",
            " 2             1.3  46205    38077.      8128.\n",
            " 3             1.5  37731    39967.     -2236.\n",
            " 4             2    43525    44692.     -1167.\n",
            " 5             2.2  39891    46582.     -6691.\n",
            " 6             2.9  56642    53197.      3445.\n",
            " 7             3    60150    54142.      6008.\n",
            " 8             3.2  54445    56032.     -1587.\n",
            " 9             3.2  64445    56032.      8413.\n",
            "10             3.7  57189    60757.     -3568.\n",
            "# … with 20 more rows\n"
          ]
        }
      ]
    },
    {
      "cell_type": "code",
      "source": [
        "%%R\n",
        "plot(Salary$YearsExperience,Salary$Salary,\n",
        "     main=\"Regression for YearsExperience and Salary\",\n",
        "     xlab=\"YearsExperience\",ylab=\"Salary\")\n",
        "#Plot a regression line\n",
        "abline(relation,col=\"red\")"
      ],
      "metadata": {
        "colab": {
          "base_uri": "https://localhost:8080/",
          "height": 497
        },
        "id": "qmyC0PZcT2DP",
        "outputId": "66cbb0aa-52da-4366-ec8d-866e859be17d"
      },
      "execution_count": null,
      "outputs": [
        {
          "output_type": "display_data",
          "data": {
            "image/png": "[encoded data removed]"
          },
          "metadata": {}
        }
      ]
    }
  ]
}